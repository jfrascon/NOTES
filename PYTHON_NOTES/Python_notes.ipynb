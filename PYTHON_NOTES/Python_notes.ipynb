{
 "cells": [
  {
   "cell_type": "markdown",
   "metadata": {},
   "source": [
    "# PYTHONPATH\n",
    "Python looks for modules in the paths stored in the list called `path` within the module `sys` --> `sys.path`.  \n",
    "The content of the `PYTHONPATH` environment variable is loaded in the `sys.path` list as its second entry, just after the directory where the current file is stored."
   ]
  },
  {
   "cell_type": "markdown",
   "metadata": {},
   "source": [
    "# USEFUL FUNCTOINS THAT I DO NOT USUALLY USE\n",
    "```python\n",
    "callable(element)\n",
    "getattr(element, member, default_member)\n",
    "\n",
    "callable(getattr(element, member, default_member))\n",
    "\n",
    "isinstance(object_ref_var, class_name)\n",
    "issubclass(daughter_class_name, ancestor_class_name)\n",
    "help(class_name) # print info about the class.\n",
    "```"
   ]
  },
  {
   "cell_type": "markdown",
   "metadata": {},
   "source": [
    "# INTERESTING FACT ABOUT HOW METHODS CAN BE INVOKED\n",
    "`object_ref_var.method(arguments)` is equivalent to `class.method(object_ref_var, arguments)`\n",
    "\n",
    "Example:\n",
    "`str(object_ref_var) :=: object_ref_var.__str__() :=: class.__str__(object_ref_var)`"
   ]
  },
  {
   "cell_type": "markdown",
   "metadata": {},
   "source": [
    "# CREATE EMPTY LISTS, TUPLES, DICTS, SETS"
   ]
  },
  {
   "cell_type": "code",
   "execution_count": 1,
   "metadata": {},
   "outputs": [],
   "source": [
    "empty_list  = [] # or list()\n",
    "empty_tuple = () # or tuple()\n",
    "empty_dict  = {} # or dict()\n",
    "empty_set   = set()"
   ]
  },
  {
   "cell_type": "markdown",
   "metadata": {},
   "source": [
    "# IF-ELIF-ELSE STATEMENT\n",
    "\n",
    "```python\n",
    "if expression1:\n",
    "    code\n",
    "elif expression2:\n",
    "   code\n",
    "elif expression3:\n",
    "   code\n",
    "else:\n",
    "    code\n",
    "```"
   ]
  },
  {
   "cell_type": "markdown",
   "metadata": {},
   "source": [
    "# AKWARD THING ABOUT LISTS"
   ]
  },
  {
   "cell_type": "code",
   "execution_count": 2,
   "metadata": {},
   "outputs": [
    {
     "name": "stdout",
     "output_type": "stream",
     "text": [
      "Original  l1 4575715656 [1, 2, 3, 4, 5]\n",
      "Original  l2 4575716488 [1, 2, 3, 4, 5]\n",
      "Parameter l1 4575715656 [1, 2, 3, 4, 5]\n",
      "Parameter l2 4575716488 [1, 2, 3, 4, 5]\n",
      "\n",
      "l1 += [10, 20, 30]\n",
      "l2  = l2 + [10, 20, 30]\n",
      "\n",
      "Parameter l1 4575715656 [1, 2, 3, 4, 5, 10, 20, 30]\n",
      "Parameter l2 4576421896 [1, 2, 3, 4, 5, 10, 20, 30]\n",
      "Original  l1 4575715656 [1, 2, 3, 4, 5, 10, 20, 30]\n",
      "Original  l2 4575716488 [1, 2, 3, 4, 5]\n"
     ]
    }
   ],
   "source": [
    "def work_with_lists(l1, l2):\n",
    "    print('Parameter l1', id(l1), l1)\n",
    "    print('Parameter l2', id(l2), l2)\n",
    "    print('\\nl1 += [10, 20, 30]')\n",
    "    print('l2  = l2 + [10, 20, 30]\\n')\n",
    "    \n",
    "    l1 += [10, 20, 30]                 # Modify the external list\n",
    "    l2  = l2 + [10, 20, 30]            # Creates a new list\n",
    "    \n",
    "    print('Parameter l1', id(l1), l1)\n",
    "    print('Parameter l2', id(l2), l2)\n",
    "\n",
    "l1 = [1, 2, 3, 4, 5]\n",
    "l2 = [1, 2, 3, 4, 5]\n",
    "print('Original  l1', id(l1), l1)\n",
    "print('Original  l2', id(l2), l2)\n",
    "work_with_lists(l1, l2)\n",
    "print('Original  l1', id(l1), l1)\n",
    "print('Original  l2', id(l2), l2)"
   ]
  },
  {
   "cell_type": "markdown",
   "metadata": {},
   "source": [
    "# EXPRESSIONS THAT EVALUATE TO FALSE AUTOMATICALLY\n",
    "\n",
    "```python\n",
    "0, '', [], {}, (), None\n",
    "```"
   ]
  },
  {
   "cell_type": "markdown",
   "metadata": {},
   "source": [
    "# TERNARY OPERATOR\n",
    "\n",
    "```python\n",
    "var = a if <condition> else b\n",
    "```"
   ]
  },
  {
   "cell_type": "markdown",
   "metadata": {},
   "source": [
    "# WORKIN WITH LISTS\n",
    "\n",
    "## List comprehension\n",
    "\n",
    "```python\n",
    "[expression for element in aList]\n",
    "```\n",
    "\n",
    "## List filtering\n",
    "\n",
    "```python\n",
    "[funtion2 for item in aList if condition] :=: list(map(funtion2, filter(function1, aList)))\n",
    "```"
   ]
  },
  {
   "cell_type": "code",
   "execution_count": 3,
   "metadata": {},
   "outputs": [
    {
     "name": "stdout",
     "output_type": "stream",
     "text": [
      "l2: [6, 21, 41] \n",
      "l3: [6, 21, 41]\n"
     ]
    }
   ],
   "source": [
    "l1 = [2, 3, 5, 13, 17, 20, 33, 37, 40]\n",
    "l2 = [item+1 for item in l1 if item%5==0]\n",
    "l3 = list(map(lambda item: item+1, filter(lambda item: item%5==0, l1)))\n",
    "print('l2:', l2, '\\nl3:', l3)"
   ]
  },
  {
   "cell_type": "markdown",
   "metadata": {},
   "source": [
    "# WORKING WITH LAMBDAS\n",
    "\n",
    "```python\n",
    "identifier = (lambda parameters : code)\n",
    "identifier(arguments)\n",
    "```\n",
    "\n",
    "or\n",
    "\n",
    "```python\n",
    "(lambda parameters : code)(arguments)\n",
    "```\n",
    "\n",
    "![](FIGURES/fig006.png)"
   ]
  },
  {
   "cell_type": "markdown",
   "metadata": {},
   "source": [
    "# WORKING WITH SETS\n",
    "Create a `set` (it does not have duplicates)"
   ]
  },
  {
   "cell_type": "code",
   "execution_count": 4,
   "metadata": {},
   "outputs": [
    {
     "name": "stdout",
     "output_type": "stream",
     "text": [
      "{}\n",
      "set()\n",
      "{'elem3', 'elem1', 'elem2'}\n",
      "{'elem1': 1, 'elem2': 2, 'elem3': 3}\n"
     ]
    }
   ],
   "source": [
    "empty_dict = {} # EMTPY DICTIONARY!!\n",
    "empty_set  = set()\n",
    "\n",
    "print(empty_dict)\n",
    "print(empty_set)\n",
    "\n",
    "a_dict = {'elem1': 1, 'elem2': 2, 'elem3': 3}\n",
    "a_set  = {'elem1',    'elem2',    'elem3'}\n",
    "\n",
    "print(a_set)\n",
    "print(a_dict)"
   ]
  },
  {
   "cell_type": "markdown",
   "metadata": {},
   "source": [
    "**`set_element.intersection(another_set)`**  \n",
    "Returns the common elements between two sets.  \n",
    "\n",
    "**`set_element.difference(another_set)`**  \n",
    "Returns the elements present in `set_element` but not present in `another_set`.  \n",
    "\n",
    "**`set_element.union(another_set)`**  \n",
    "Joins two sets (without duplicates)\n",
    "\n",
    "## Set comprehension\n",
    "```python\n",
    "{expression for element in list_or_iterable}\n",
    "```"
   ]
  },
  {
   "cell_type": "markdown",
   "metadata": {},
   "source": [
    "# DEEP COPY OF AN OBJECT"
   ]
  },
  {
   "cell_type": "code",
   "execution_count": 6,
   "metadata": {},
   "outputs": [
    {
     "name": "stdout",
     "output_type": "stream",
     "text": [
      "l1    4576557640 [1, 2, 3]\n",
      "l2    4576557640 [1, 2, 3]\n",
      "dup_l 4576557512 [1, 2, 3]\n"
     ]
    }
   ],
   "source": [
    "import copy\n",
    "\n",
    "l1 = [1, 2, 3]\n",
    "print('l1   ', id(l1), l1)\n",
    "\n",
    "l2 = l1\n",
    "print('l2   ', id(l2), l2)\n",
    "\n",
    "duplicated_l = copy.copy(l1)\n",
    "print('dup_l', id(duplicated_l), duplicated_l)"
   ]
  },
  {
   "cell_type": "markdown",
   "metadata": {},
   "source": [
    "# VERSION OF PYTHON THAT EXECUTES THE FILE"
   ]
  },
  {
   "cell_type": "code",
   "execution_count": 7,
   "metadata": {},
   "outputs": [
    {
     "name": "stdout",
     "output_type": "stream",
     "text": [
      "Executable: /Users/jfrascon/anaconda3/bin/python3\n",
      "Version: 3.6.3 |Anaconda custom (64-bit)| (default, Nov  8 2017, 18:10:31) \n",
      "[GCC 4.2.1 Compatible Clang 4.0.1 (tags/RELEASE_401/final)]\n"
     ]
    }
   ],
   "source": [
    "import sys\n",
    "print('Executable:', sys.executable)\n",
    "print('Version:', sys.version)"
   ]
  },
  {
   "cell_type": "markdown",
   "metadata": {},
   "source": [
    "# OPERATORS OFTEN MISUNDERSTOOD\n",
    "Membership operator: `in`  \n",
    "Equal operator: `==`  \n",
    "Identity operator: `is`"
   ]
  },
  {
   "cell_type": "markdown",
   "metadata": {},
   "source": [
    "# BUILT-IN FUNCTIONS"
   ]
  },
  {
   "cell_type": "code",
   "execution_count": 8,
   "metadata": {},
   "outputs": [
    {
     "name": "stdout",
     "output_type": "stream",
     "text": [
      "['ArithmeticError', 'AssertionError', 'AttributeError', 'BaseException', 'BlockingIOError', 'BrokenPipeError', 'BufferError', 'BytesWarning', 'ChildProcessError', 'ConnectionAbortedError', 'ConnectionError', 'ConnectionRefusedError', 'ConnectionResetError', 'DeprecationWarning', 'EOFError', 'Ellipsis', 'EnvironmentError', 'Exception', 'False', 'FileExistsError', 'FileNotFoundError', 'FloatingPointError', 'FutureWarning', 'GeneratorExit', 'IOError', 'ImportError', 'ImportWarning', 'IndentationError', 'IndexError', 'InterruptedError', 'IsADirectoryError', 'KeyError', 'KeyboardInterrupt', 'LookupError', 'MemoryError', 'ModuleNotFoundError', 'NameError', 'None', 'NotADirectoryError', 'NotImplemented', 'NotImplementedError', 'OSError', 'OverflowError', 'PendingDeprecationWarning', 'PermissionError', 'ProcessLookupError', 'RecursionError', 'ReferenceError', 'ResourceWarning', 'RuntimeError', 'RuntimeWarning', 'StopAsyncIteration', 'StopIteration', 'SyntaxError', 'SyntaxWarning', 'SystemError', 'SystemExit', 'TabError', 'TimeoutError', 'True', 'TypeError', 'UnboundLocalError', 'UnicodeDecodeError', 'UnicodeEncodeError', 'UnicodeError', 'UnicodeTranslateError', 'UnicodeWarning', 'UserWarning', 'ValueError', 'Warning', 'ZeroDivisionError', '__IPYTHON__', '__build_class__', '__debug__', '__doc__', '__import__', '__loader__', '__name__', '__package__', '__spec__', 'abs', 'all', 'any', 'ascii', 'bin', 'bool', 'bytearray', 'bytes', 'callable', 'chr', 'classmethod', 'compile', 'complex', 'copyright', 'credits', 'delattr', 'dict', 'dir', 'display', 'divmod', 'enumerate', 'eval', 'exec', 'filter', 'float', 'format', 'frozenset', 'get_ipython', 'getattr', 'globals', 'hasattr', 'hash', 'help', 'hex', 'id', 'input', 'int', 'isinstance', 'issubclass', 'iter', 'len', 'license', 'list', 'locals', 'map', 'max', 'memoryview', 'min', 'next', 'object', 'oct', 'open', 'ord', 'pow', 'print', 'property', 'range', 'repr', 'reversed', 'round', 'set', 'setattr', 'slice', 'sorted', 'staticmethod', 'str', 'sum', 'super', 'tuple', 'type', 'vars', 'zip']\n"
     ]
    }
   ],
   "source": [
    "import builtins\n",
    "print(dir(builtins))"
   ]
  },
  {
   "cell_type": "markdown",
   "metadata": {},
   "source": [
    "# [DUNDER METHODS](https://monjurulhabib.wordpress.com/2016/09/27/pythons-magic-method-or-special-methods-or-dunder/)\n",
    "\n",
    "Magic methods are special methods which have double underscores at the beginning and end of their names.\n",
    "They are also known as **dunders**.\n",
    "The only one we will encounter is __init__, but there are several others.\n",
    "They are used to create functionality that can’t be represented as a normal method.\n",
    "\n",
    "One common use of them is operator overloading.\n",
    "This means defining operators for custom classes that allow operators such as `+` and `*` to be used on them.\n",
    "\n",
    "More magic methods for common operators:\n",
    "\n",
    "`__add__`      for `+`  \n",
    "`__sub__`      for `–`  \n",
    "`__mul__`      for `*`  \n",
    "`__truediv__`  for `/`  \n",
    "`__floordiv__` for `//`  \n",
    "`__mod__`      for `%`  \n",
    "`__pow__`      for `**`  \n",
    "`__and__`      for `&`  \n",
    "`__xor__`      for `^`  \n",
    "`__or__`       for `|`  \n",
    "\n",
    "The expression x + y is translated into `x.__add__(y)`.\n",
    "However, if x hasn’t implemented `__add__`, and x and y are of different types, then `y.__radd__(x)` is called.\n",
    "\n",
    "There are several magic methods for making classes act like containers.\n",
    "\n",
    "`__len__`      for `len()`  \n",
    "`__getitem__`  for `indexing`  \n",
    "`__setitem__`  for `assigning to indexed values`  \n",
    "`__delitem__`  for `deleting indexed values`  \n",
    "`__iter__`     for `iteration over objects` (e.g., in for loops)  \n",
    "`__contains__` for `in`\n",
    "\n",
    "There are many other magic methods such as `__call__` for calling objects as functions, and `__int__`, `__str__`, `__repr__` and the `like`, for converting objects to built-in types.\n",
    "\n",
    "`__str__`  for `str()`, `print()` and `format()`  \n",
    "`__repr__` for `repr()` and `print(object)`"
   ]
  },
  {
   "cell_type": "markdown",
   "metadata": {},
   "source": [
    "# STANDARD MODULES\n",
    "\n",
    "![](FIGURES/fig009.png)"
   ]
  },
  {
   "cell_type": "markdown",
   "metadata": {},
   "source": [
    "# ASK FOR PERMISSION AND ASK FOR FORGIVENESS\n",
    "**Ask for permission** is a better idea when you are very likely that the attribute will be missing.  \n",
    "**Ask for forgiveness** is a better idea when you are very likely that the attribute will be present in the object."
   ]
  },
  {
   "cell_type": "markdown",
   "metadata": {},
   "source": [
    "# PROPERTIES"
   ]
  },
  {
   "cell_type": "code",
   "execution_count": 9,
   "metadata": {},
   "outputs": [
    {
     "name": "stdout",
     "output_type": "stream",
     "text": [
      "100\n",
      "10\n",
      "1\n"
     ]
    }
   ],
   "source": [
    "class AClass:\n",
    "    def __init__(self, value):\n",
    "        self._attr = value\n",
    "\n",
    "    @property\n",
    "    def attr(self):\n",
    "        return self._attr\n",
    "    \n",
    "    @attr.setter\n",
    "    def attr(self, value):\n",
    "        self._attr = value\n",
    "        \n",
    "    @attr.deleter\n",
    "    def attr(self):\n",
    "        self._attr = 1\n",
    "\n",
    "anObject = AClass(100)\n",
    "print(anObject.attr)\n",
    "anObject.attr = 10\n",
    "print(anObject.attr)\n",
    "del anObject.attr\n",
    "print(anObject.attr)"
   ]
  },
  {
   "cell_type": "markdown",
   "metadata": {},
   "source": [
    "# UPDATE ALL OUTDATED MODULES AT THE SAME TIME\n",
    "\n",
    "```bash\n",
    "$ pip freeze --local | grep -v '^\\-e' | cut -d = -f 1 | xargs -n1 pip install -U\n",
    "```"
   ]
  },
  {
   "cell_type": "code",
   "execution_count": null,
   "metadata": {},
   "outputs": [],
   "source": [
    "import json\n",
    "import urllib2\n",
    "from distutils.version import StrictVersion\n",
    "\n",
    "def versions(package_name):\n",
    "    url = \"https://pypi.python.org/pypi/%s/json\" % (package_name,)\n",
    "    data = json.load(urllib2.urlopen(urllib2.Request(url)))\n",
    "    versions = data[\"releases\"].keys()\n",
    "    versions.sort(key=StrictVersion)\n",
    "    return versions"
   ]
  },
  {
   "cell_type": "markdown",
   "metadata": {},
   "source": [
    "# LIST ALL THE VERSIONS OF A PACKAGE\n",
    "\n",
    "```python\n",
    "pip install --no-deps Django==x\n",
    "```\n",
    "\n",
    "where `x` is a number that you guess is not a valid version number. The command will throw an error but it will also list all the available versions for that package. :)"
   ]
  },
  {
   "cell_type": "markdown",
   "metadata": {},
   "source": [
    "Example:\n",
    "\n",
    "```python\n",
    "pip install --no-deps Django==21312312312\n",
    "```\n",
    "\n",
    "Collecting pip==21312312312\n",
    "  Could not find a version that satisfies the requirement pip==21312312312 (from versions: 0.2, 0.2.1, 0.3, 0.3.1, 0.4, 0.5, 0.5.1, 0.6, 0.6.1, 0.6.2, 0.6.3, 0.7, 0.7.1, 0.7.2, 0.8, 0.8.1, 0.8.2, 0.8.3, 1.0, 1.0.1, 1.0.2, 1.1, 1.2, 1.2.1, 1.3, 1.3.1, 1.4, 1.4.1, 1.5, 1.5.1, 1.5.2, 1.5.3, 1.5.4, 1.5.5, 1.5.6, 6.0, 6.0.1, 6.0.2, 6.0.3, 6.0.4, 6.0.5, 6.0.6, 6.0.7, 6.0.8, 6.1.0, 6.1.1, 7.0.0, 7.0.1, 7.0.2, 7.0.3, 7.1.0, 7.1.1, 7.1.2, 8.0.0, 8.0.1, 8.0.2, 8.0.3, 8.1.0, 8.1.1, 8.1.2, 9.0.0, 9.0.1, 9.0.2, 9.0.3, 10.0.0b1, 10.0.0b2, 10.0.0, 10.0.1)\n",
    "No matching distribution found for pip==21312312312"
   ]
  },
  {
   "cell_type": "markdown",
   "metadata": {},
   "source": [
    "# CLOSURE DEFINITION\n",
    "\n",
    "A `closure` is a function that is created inside of another function often called `outer function` or `creator function` and has access to the `scope` (memory context) of the outer function.\n",
    "\n",
    "![](FIGURES/fig008.png)"
   ]
  },
  {
   "cell_type": "code",
   "execution_count": null,
   "metadata": {},
   "outputs": [],
   "source": []
  }
 ],
 "metadata": {
  "kernelspec": {
   "display_name": "Python 3",
   "language": "python",
   "name": "python3"
  },
  "language_info": {
   "codemirror_mode": {
    "name": "ipython",
    "version": 3
   },
   "file_extension": ".py",
   "mimetype": "text/x-python",
   "name": "python",
   "nbconvert_exporter": "python",
   "pygments_lexer": "ipython3",
   "version": "3.6.4"
  }
 },
 "nbformat": 4,
 "nbformat_minor": 2
}
